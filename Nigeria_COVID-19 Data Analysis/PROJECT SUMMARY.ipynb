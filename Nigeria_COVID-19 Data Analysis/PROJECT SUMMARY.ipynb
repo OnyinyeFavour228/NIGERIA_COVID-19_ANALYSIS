{
 "cells": [
  {
   "cell_type": "markdown",
   "id": "ffd61458",
   "metadata": {},
   "source": [
    "# Nigeria COVID-19 Data Analysis"
   ]
  },
  {
   "cell_type": "markdown",
   "id": "5e6538fc",
   "metadata": {},
   "source": [
    "COVID-19(Coronavirus disease) is an infectious disease caused by coronavirus. It affected major parts of the world including Nigeria. COVID-19 affected several activities in the country as lockdown & curfews were observed and major airports were shut down."
   ]
  },
  {
   "cell_type": "markdown",
   "id": "bc96c7e6",
   "metadata": {},
   "source": [
    "## Steps"
   ]
  },
  {
   "cell_type": "markdown",
   "id": "d2971ef3",
   "metadata": {},
   "source": [
    " * I used Python for this analysis.\n",
    " * I performed a web scrap to get data from the NCDC website.\n",
    " * I also imported John Hopkins global daily data, Nigeria Community Vulnerability Index data, Budget and GDP data for Nigeria.\n",
    " The John Hopkins daily data is on the confirmed, death and recovered cases. The vulnerability index and budget data were computed for each state in Nigeria.The Gdp data was computed for each quarter from the year 2014 to 2020.\n",
    " * I extacted the daily data for Nigeria from the John Hopkins global daily data.\n",
    " * I converted the 'Date' column in the Nigeria daily data from object data type to datetime data type\n",
    " * I used Pandas diff method to find the derivate of the total cases.\n",
    " * I log transformed the total cases columns to reduce the skewness in the plots\n",
    " * I used Pandas melt function on the Budget and GDP dataframe to change the dataframe format to enable a more comprehensive plot\n",
    " * I used matplotlib and different seaborn visualization plots to examine relationships and explore the data"
   ]
  },
  {
   "cell_type": "markdown",
   "id": "c852145d",
   "metadata": {},
   "source": [
    "## Insights"
   ]
  },
  {
   "cell_type": "markdown",
   "id": "b20294e2",
   "metadata": {},
   "source": [
    " * Lagos state recorded the highest number of confirmed, recovered and death cases in Nigeria.\n",
    " * The highest number of daily new cases (6158 cases) was recorded on the 22nd of December, 2021.\n",
    " * The infection rate was lowest around the middle of the years 2021 and 2022.\n",
    " * The highest number of daily death cases (93 cases) was recorded on the 29th of August, 2021.\n",
    " * The highest number of recovered cases (29084 cases) was recorded on the 3rd of December, 2020.\n",
    " * An increase in the population density influences an increase in the number of confirmed cases and deaths.\n",
    " * A decrease in the socio-economic index influences an increase in the number of confirmed cases and deaths.\n",
    " * The higher the Epidemiological index, the higher the number of confirmed cases and deaths.\n",
    " * A decrease in transport availability influences an increase in the number of confirmed cases and deaths.\n",
    " * The GDP increases towards the last quarter for each year from 2014 to 2019.\n",
    " * The highest GDP was recorded in the fourth quarter of 2019.\n",
    " * There was a decrease in the GDP in the second quarter from the first quarter in year 2020.\n",
    " * Cross River state budget was the most affected by the COVID-19 with a budget reduction of about 950 billion.\n",
    " * Lagos state budget was also greatly affected by COVID-19 with a budget reduction of about 650 billion."
   ]
  }
 ],
 "metadata": {
  "kernelspec": {
   "display_name": "Python 3 (ipykernel)",
   "language": "python",
   "name": "python3"
  },
  "language_info": {
   "codemirror_mode": {
    "name": "ipython",
    "version": 3
   },
   "file_extension": ".py",
   "mimetype": "text/x-python",
   "name": "python",
   "nbconvert_exporter": "python",
   "pygments_lexer": "ipython3",
   "version": "3.9.12"
  }
 },
 "nbformat": 4,
 "nbformat_minor": 5
}
